{
 "cells": [
  {
   "cell_type": "code",
   "execution_count": 2,
   "id": "5d4c89ed",
   "metadata": {},
   "outputs": [
    {
     "name": "stderr",
     "output_type": "stream",
     "text": [
      "C:\\Users\\Sandhya\\AppData\\Roaming\\Python\\Python310\\site-packages\\pandas\\core\\arrays\\masked.py:61: UserWarning: Pandas requires version '1.3.6' or newer of 'bottleneck' (version '1.3.5' currently installed).\n",
      "  from pandas.core import (\n"
     ]
    },
    {
     "name": "stdout",
     "output_type": "stream",
     "text": [
      "✅ PySpark is working in Jupyter!\n",
      "PySpark version: 4.0.1\n",
      "Spark version: 4.0.1\n"
     ]
    }
   ],
   "source": [
    "#Perform simple data transformation like filtering even\n",
    "#numbers from a given list using PySpark RDD\n",
    "\n",
    "import findspark\n",
    "findspark.init()\n",
    "\n",
    "import pyspark\n",
    "from pyspark.sql import SparkSession\n",
    "\n",
    "spark = SparkSession.builder.appName(\"JupyterPySparkTest\").getOrCreate()\n",
    "\n",
    "print(\"✅ PySpark is working in Jupyter!\")\n",
    "print(\"PySpark version:\", pyspark.__version__)\n",
    "print(\"Spark version:\", spark.version)"
   ]
  },
  {
   "cell_type": "code",
   "execution_count": 3,
   "id": "74ccd793",
   "metadata": {},
   "outputs": [
    {
     "data": {
      "text/html": [
       "\n",
       "            <div>\n",
       "                <p><b>SparkSession - in-memory</b></p>\n",
       "                \n",
       "        <div>\n",
       "            <p><b>SparkContext</b></p>\n",
       "\n",
       "            <p><a href=\"http://192.168.1.42:4042\">Spark UI</a></p>\n",
       "\n",
       "            <dl>\n",
       "              <dt>Version</dt>\n",
       "                <dd><code>v4.0.1</code></dd>\n",
       "              <dt>Master</dt>\n",
       "                <dd><code>local[*]</code></dd>\n",
       "              <dt>AppName</dt>\n",
       "                <dd><code>JupyterPySparkTest</code></dd>\n",
       "            </dl>\n",
       "        </div>\n",
       "        \n",
       "            </div>\n",
       "        "
      ],
      "text/plain": [
       "<pyspark.sql.session.SparkSession at 0x221fcbe2020>"
      ]
     },
     "execution_count": 3,
     "metadata": {},
     "output_type": "execute_result"
    }
   ],
   "source": [
    "spark"
   ]
  },
  {
   "cell_type": "code",
   "execution_count": 6,
   "id": "ea7437d4",
   "metadata": {},
   "outputs": [],
   "source": [
    "# from pyspark import SparkContext\n",
    "import random\n",
    "# Step 1: Initialize SparkContext"
   ]
  },
  {
   "cell_type": "code",
   "execution_count": 7,
   "id": "3ae7f332",
   "metadata": {},
   "outputs": [
    {
     "name": "stdout",
     "output_type": "stream",
     "text": [
      "Original List:\n",
      "[121, 101, 136, 545, 926, 740, 326, 477, 513, 155, 283, 675, 539, 336, 291, 800, 354, 413, 358, 634, 908, 282, 495, 398, 79, 182, 761, 874, 117, 468, 554, 829, 926, 276, 797, 318, 189, 343, 619, 244, 693, 901, 444, 397, 498, 630, 753, 979, 213, 235, 132, 926, 489, 777, 650, 252, 67, 178, 861, 983, 223, 766, 750, 477, 355, 246, 494, 707, 315, 317, 469, 880, 39, 97, 669, 75, 481, 106, 967, 423, 749, 196, 892, 678, 853, 871, 399, 570, 521, 547, 611, 958, 48, 906, 545, 754, 497, 47, 613, 904]\n"
     ]
    }
   ],
   "source": [
    "# Step 2: Generate 100 random integers between 1 and 1000\n",
    "random_numbers = [random.randint(1, 1000) for _ in range(100)]\n",
    "print(\"Original List:\")\n",
    "print(random_numbers)"
   ]
  },
  {
   "cell_type": "code",
   "execution_count": 8,
   "id": "bf1ae60f",
   "metadata": {},
   "outputs": [
    {
     "name": "stdout",
     "output_type": "stream",
     "text": [
      "\n",
      "Even Numbers:\n",
      "[136, 926, 740, 326, 336, 800, 354, 358, 634, 908, 282, 398, 182, 874, 468, 554, 926, 276, 318, 244, 444, 498, 630, 132, 926, 650, 252, 178, 766, 750, 246, 494, 880, 106, 196, 892, 678, 570, 958, 48, 906, 754, 904]\n"
     ]
    }
   ],
   "source": [
    "# Access SparkContext from existing spark session\n",
    "numbers_rdd = spark.sparkContext.parallelize(random_numbers)\n",
    "\n",
    "even_numbers_rdd = numbers_rdd.filter(lambda x: x % 2 == 0)\n",
    "even_numbers = even_numbers_rdd.collect()\n",
    "\n",
    "print(\"\\nEven Numbers:\")\n",
    "print(even_numbers)"
   ]
  },
  {
   "cell_type": "code",
   "execution_count": null,
   "id": "9e2aa8e3",
   "metadata": {},
   "outputs": [],
   "source": []
  }
 ],
 "metadata": {
  "kernelspec": {
   "display_name": "Python 3 (ipykernel)",
   "language": "python",
   "name": "python3"
  },
  "language_info": {
   "codemirror_mode": {
    "name": "ipython",
    "version": 3
   },
   "file_extension": ".py",
   "mimetype": "text/x-python",
   "name": "python",
   "nbconvert_exporter": "python",
   "pygments_lexer": "ipython3",
   "version": "3.10.9"
  }
 },
 "nbformat": 4,
 "nbformat_minor": 5
}
